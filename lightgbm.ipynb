{
 "cells": [
  {
   "cell_type": "code",
   "execution_count": 84,
   "id": "initial_id",
   "metadata": {
    "collapsed": true,
    "ExecuteTime": {
     "end_time": "2023-08-13T08:37:29.057922400Z",
     "start_time": "2023-08-13T08:37:28.992925900Z"
    }
   },
   "outputs": [],
   "source": [
    "import numpy as np\n",
    "import pandas as pd\n",
    "from sklearn.model_selection import train_test_split\n",
    "from sklearn.preprocessing import LabelEncoder\n",
    "import lightgbm as lgb\n",
    "from sklearn.metrics import log_loss"
   ]
  },
  {
   "cell_type": "code",
   "execution_count": 85,
   "outputs": [],
   "source": [
    "train_df = pd.read_csv(\"input/train.csv\")\n",
    "test_df = pd.read_csv(\"input/test.csv\")\n",
    "sample_df = pd.read_csv(\"input/sample_submission.csv\")"
   ],
   "metadata": {
    "collapsed": false,
    "ExecuteTime": {
     "end_time": "2023-08-13T08:37:31.461921800Z",
     "start_time": "2023-08-13T08:37:28.997422200Z"
    }
   },
   "id": "97e7dbcf257defdc"
  },
  {
   "cell_type": "code",
   "execution_count": 86,
   "outputs": [
    {
     "data": {
      "text/plain": "            ID  target        v1        v2 v3        v4         v5        v6  \\\n0            3       1  1.335739  8.727474  C  3.921026   7.915266  2.599278   \n1            4       1       NaN       NaN  C       NaN   9.191265       NaN   \n2            5       1  0.943877  5.310079  C  4.410969   5.326159  3.979592   \n3            6       1  0.797415  8.304757  C  4.225930  11.627438  2.097700   \n4            8       1       NaN       NaN  C       NaN        NaN       NaN   \n...        ...     ...       ...       ... ..       ...        ...       ...   \n114316  228708       1       NaN       NaN  C       NaN        NaN       NaN   \n114317  228710       1       NaN       NaN  C       NaN        NaN       NaN   \n114318  228711       1       NaN       NaN  C       NaN  10.069277       NaN   \n114319  228712       1       NaN       NaN  C       NaN  10.106144       NaN   \n114320  228713       1  1.619763  7.932978  C  4.640085   8.473141  2.351470   \n\n              v7        v8  ...      v122      v123      v124  v125      v126  \\\n0       3.176895  0.012941  ...  8.000000  1.989780  0.035754    AU  1.804126   \n1            NaN  2.301630  ...       NaN       NaN  0.598896    AF       NaN   \n2       3.928571  0.019645  ...  9.333333  2.477596  0.013452    AE  1.773709   \n3       1.987549  0.171947  ...  7.018256  1.812795  0.002267    CJ  1.415230   \n4            NaN       NaN  ...       NaN       NaN       NaN     Z       NaN   \n...          ...       ...  ...       ...       ...       ...   ...       ...   \n114316       NaN       NaN  ...       NaN       NaN       NaN    AL       NaN   \n114317       NaN       NaN  ...       NaN       NaN       NaN     E       NaN   \n114318       NaN  0.323324  ...       NaN       NaN  0.156764     Q       NaN   \n114319       NaN  0.309226  ...       NaN       NaN  0.490658    BW       NaN   \n114320  2.826766  3.479754  ...  7.936508  2.944285  3.135205     V  1.943149   \n\n            v127      v128  v129      v130      v131  \n0       3.113719  2.024285     0  0.636365  2.857144  \n1            NaN  1.957825     0       NaN       NaN  \n2       3.922193  1.120468     2  0.883118  1.176472  \n3       2.954381  1.990847     1  1.677108  1.034483  \n4            NaN       NaN     0       NaN       NaN  \n...          ...       ...   ...       ...       ...  \n114316       NaN       NaN     0       NaN       NaN  \n114317       NaN       NaN     1       NaN       NaN  \n114318       NaN  2.417606     2       NaN       NaN  \n114319       NaN  3.526650     0       NaN       NaN  \n114320  4.385553  1.604493     0  1.787610  1.386138  \n\n[114321 rows x 133 columns]",
      "text/html": "<div>\n<style scoped>\n    .dataframe tbody tr th:only-of-type {\n        vertical-align: middle;\n    }\n\n    .dataframe tbody tr th {\n        vertical-align: top;\n    }\n\n    .dataframe thead th {\n        text-align: right;\n    }\n</style>\n<table border=\"1\" class=\"dataframe\">\n  <thead>\n    <tr style=\"text-align: right;\">\n      <th></th>\n      <th>ID</th>\n      <th>target</th>\n      <th>v1</th>\n      <th>v2</th>\n      <th>v3</th>\n      <th>v4</th>\n      <th>v5</th>\n      <th>v6</th>\n      <th>v7</th>\n      <th>v8</th>\n      <th>...</th>\n      <th>v122</th>\n      <th>v123</th>\n      <th>v124</th>\n      <th>v125</th>\n      <th>v126</th>\n      <th>v127</th>\n      <th>v128</th>\n      <th>v129</th>\n      <th>v130</th>\n      <th>v131</th>\n    </tr>\n  </thead>\n  <tbody>\n    <tr>\n      <th>0</th>\n      <td>3</td>\n      <td>1</td>\n      <td>1.335739</td>\n      <td>8.727474</td>\n      <td>C</td>\n      <td>3.921026</td>\n      <td>7.915266</td>\n      <td>2.599278</td>\n      <td>3.176895</td>\n      <td>0.012941</td>\n      <td>...</td>\n      <td>8.000000</td>\n      <td>1.989780</td>\n      <td>0.035754</td>\n      <td>AU</td>\n      <td>1.804126</td>\n      <td>3.113719</td>\n      <td>2.024285</td>\n      <td>0</td>\n      <td>0.636365</td>\n      <td>2.857144</td>\n    </tr>\n    <tr>\n      <th>1</th>\n      <td>4</td>\n      <td>1</td>\n      <td>NaN</td>\n      <td>NaN</td>\n      <td>C</td>\n      <td>NaN</td>\n      <td>9.191265</td>\n      <td>NaN</td>\n      <td>NaN</td>\n      <td>2.301630</td>\n      <td>...</td>\n      <td>NaN</td>\n      <td>NaN</td>\n      <td>0.598896</td>\n      <td>AF</td>\n      <td>NaN</td>\n      <td>NaN</td>\n      <td>1.957825</td>\n      <td>0</td>\n      <td>NaN</td>\n      <td>NaN</td>\n    </tr>\n    <tr>\n      <th>2</th>\n      <td>5</td>\n      <td>1</td>\n      <td>0.943877</td>\n      <td>5.310079</td>\n      <td>C</td>\n      <td>4.410969</td>\n      <td>5.326159</td>\n      <td>3.979592</td>\n      <td>3.928571</td>\n      <td>0.019645</td>\n      <td>...</td>\n      <td>9.333333</td>\n      <td>2.477596</td>\n      <td>0.013452</td>\n      <td>AE</td>\n      <td>1.773709</td>\n      <td>3.922193</td>\n      <td>1.120468</td>\n      <td>2</td>\n      <td>0.883118</td>\n      <td>1.176472</td>\n    </tr>\n    <tr>\n      <th>3</th>\n      <td>6</td>\n      <td>1</td>\n      <td>0.797415</td>\n      <td>8.304757</td>\n      <td>C</td>\n      <td>4.225930</td>\n      <td>11.627438</td>\n      <td>2.097700</td>\n      <td>1.987549</td>\n      <td>0.171947</td>\n      <td>...</td>\n      <td>7.018256</td>\n      <td>1.812795</td>\n      <td>0.002267</td>\n      <td>CJ</td>\n      <td>1.415230</td>\n      <td>2.954381</td>\n      <td>1.990847</td>\n      <td>1</td>\n      <td>1.677108</td>\n      <td>1.034483</td>\n    </tr>\n    <tr>\n      <th>4</th>\n      <td>8</td>\n      <td>1</td>\n      <td>NaN</td>\n      <td>NaN</td>\n      <td>C</td>\n      <td>NaN</td>\n      <td>NaN</td>\n      <td>NaN</td>\n      <td>NaN</td>\n      <td>NaN</td>\n      <td>...</td>\n      <td>NaN</td>\n      <td>NaN</td>\n      <td>NaN</td>\n      <td>Z</td>\n      <td>NaN</td>\n      <td>NaN</td>\n      <td>NaN</td>\n      <td>0</td>\n      <td>NaN</td>\n      <td>NaN</td>\n    </tr>\n    <tr>\n      <th>...</th>\n      <td>...</td>\n      <td>...</td>\n      <td>...</td>\n      <td>...</td>\n      <td>...</td>\n      <td>...</td>\n      <td>...</td>\n      <td>...</td>\n      <td>...</td>\n      <td>...</td>\n      <td>...</td>\n      <td>...</td>\n      <td>...</td>\n      <td>...</td>\n      <td>...</td>\n      <td>...</td>\n      <td>...</td>\n      <td>...</td>\n      <td>...</td>\n      <td>...</td>\n      <td>...</td>\n    </tr>\n    <tr>\n      <th>114316</th>\n      <td>228708</td>\n      <td>1</td>\n      <td>NaN</td>\n      <td>NaN</td>\n      <td>C</td>\n      <td>NaN</td>\n      <td>NaN</td>\n      <td>NaN</td>\n      <td>NaN</td>\n      <td>NaN</td>\n      <td>...</td>\n      <td>NaN</td>\n      <td>NaN</td>\n      <td>NaN</td>\n      <td>AL</td>\n      <td>NaN</td>\n      <td>NaN</td>\n      <td>NaN</td>\n      <td>0</td>\n      <td>NaN</td>\n      <td>NaN</td>\n    </tr>\n    <tr>\n      <th>114317</th>\n      <td>228710</td>\n      <td>1</td>\n      <td>NaN</td>\n      <td>NaN</td>\n      <td>C</td>\n      <td>NaN</td>\n      <td>NaN</td>\n      <td>NaN</td>\n      <td>NaN</td>\n      <td>NaN</td>\n      <td>...</td>\n      <td>NaN</td>\n      <td>NaN</td>\n      <td>NaN</td>\n      <td>E</td>\n      <td>NaN</td>\n      <td>NaN</td>\n      <td>NaN</td>\n      <td>1</td>\n      <td>NaN</td>\n      <td>NaN</td>\n    </tr>\n    <tr>\n      <th>114318</th>\n      <td>228711</td>\n      <td>1</td>\n      <td>NaN</td>\n      <td>NaN</td>\n      <td>C</td>\n      <td>NaN</td>\n      <td>10.069277</td>\n      <td>NaN</td>\n      <td>NaN</td>\n      <td>0.323324</td>\n      <td>...</td>\n      <td>NaN</td>\n      <td>NaN</td>\n      <td>0.156764</td>\n      <td>Q</td>\n      <td>NaN</td>\n      <td>NaN</td>\n      <td>2.417606</td>\n      <td>2</td>\n      <td>NaN</td>\n      <td>NaN</td>\n    </tr>\n    <tr>\n      <th>114319</th>\n      <td>228712</td>\n      <td>1</td>\n      <td>NaN</td>\n      <td>NaN</td>\n      <td>C</td>\n      <td>NaN</td>\n      <td>10.106144</td>\n      <td>NaN</td>\n      <td>NaN</td>\n      <td>0.309226</td>\n      <td>...</td>\n      <td>NaN</td>\n      <td>NaN</td>\n      <td>0.490658</td>\n      <td>BW</td>\n      <td>NaN</td>\n      <td>NaN</td>\n      <td>3.526650</td>\n      <td>0</td>\n      <td>NaN</td>\n      <td>NaN</td>\n    </tr>\n    <tr>\n      <th>114320</th>\n      <td>228713</td>\n      <td>1</td>\n      <td>1.619763</td>\n      <td>7.932978</td>\n      <td>C</td>\n      <td>4.640085</td>\n      <td>8.473141</td>\n      <td>2.351470</td>\n      <td>2.826766</td>\n      <td>3.479754</td>\n      <td>...</td>\n      <td>7.936508</td>\n      <td>2.944285</td>\n      <td>3.135205</td>\n      <td>V</td>\n      <td>1.943149</td>\n      <td>4.385553</td>\n      <td>1.604493</td>\n      <td>0</td>\n      <td>1.787610</td>\n      <td>1.386138</td>\n    </tr>\n  </tbody>\n</table>\n<p>114321 rows × 133 columns</p>\n</div>"
     },
     "execution_count": 86,
     "metadata": {},
     "output_type": "execute_result"
    }
   ],
   "source": [
    "train_df"
   ],
   "metadata": {
    "collapsed": false,
    "ExecuteTime": {
     "end_time": "2023-08-13T08:37:31.510422400Z",
     "start_time": "2023-08-13T08:37:31.461921800Z"
    }
   },
   "id": "e28e802ec9e5481c"
  },
  {
   "cell_type": "code",
   "execution_count": 87,
   "outputs": [
    {
     "data": {
      "text/plain": "            ID            v1         v2 v3        v4        v5        v6  \\\n0            0  1.375465e+00  11.361141  C  4.200778  6.577000  2.081784   \n1            1           NaN        NaN  C       NaN       NaN       NaN   \n2            2 -4.903407e-07   8.201529  C  4.544371  6.550100  1.558442   \n3            7  2.661870e+00   3.041241  C  1.657216  9.773080  2.078337   \n4           10  1.252822e+00  11.283352  C  4.638388  8.520510  2.302484   \n...        ...           ...        ... ..       ...       ...       ...   \n114388  228700           NaN        NaN  C       NaN       NaN       NaN   \n114389  228703           NaN        NaN  C       NaN       NaN       NaN   \n114390  228704  1.523740e+00   6.571597  C  3.827086  8.824122  2.635660   \n114391  228706           NaN        NaN  C       NaN       NaN       NaN   \n114392  228709  1.633554e+00   7.520583  C  4.264139  6.402152  1.766004   \n\n              v7        v8        v9  ...      v122      v123          v124  \\\n0       1.784386  0.011094  9.523810  ...  7.619048  1.815241  1.112270e-07   \n1            NaN       NaN       NaN  ...       NaN       NaN           NaN   \n2       2.467532  0.007164  7.142858  ...  5.714286  1.970928  1.412265e-02   \n3       1.430855  1.252157  7.959596  ...  4.404040  8.163614  1.100329e+00   \n4       3.510159  0.074263  7.612904  ...  6.580644  1.325654  2.584588e-01   \n...          ...       ...       ...  ...       ...       ...           ...   \n114388       NaN       NaN       NaN  ...       NaN       NaN           NaN   \n114389       NaN       NaN       NaN  ...       NaN       NaN           NaN   \n114390  2.218992  6.534959  8.852942  ...  6.852941  2.093560  5.111015e+00   \n114391       NaN       NaN       NaN  ...       NaN       NaN           NaN   \n114392  2.207506  0.020415  9.333333  ...  6.222221  2.740374  9.168495e-07   \n\n        v125      v126      v127      v128  v129      v130          v131  \n0         AF  1.292368  3.903345  1.485925     0  2.333334  1.428572e+00  \n1          I       NaN       NaN       NaN     0       NaN           NaN  \n2         AV  1.128724  5.844156  1.475892     0  1.263157 -6.380022e-07  \n3          B  1.988688  1.558753  2.448814     0  5.385474  1.493777e+00  \n4          A  1.863796  2.666478  2.374275     0  0.681672  2.264151e+00  \n...      ...       ...       ...       ...   ...       ...           ...  \n114388    AG       NaN       NaN       NaN     0       NaN           NaN  \n114389     H       NaN       NaN       NaN     0       NaN           NaN  \n114390     V  1.826453  2.661700  1.601567     0  1.816594  1.634616e+00  \n114391    AZ       NaN       NaN       NaN     0       NaN           NaN  \n114392    BP  1.726724  4.966887  1.429776     0  1.600000  2.000000e+00  \n\n[114393 rows x 132 columns]",
      "text/html": "<div>\n<style scoped>\n    .dataframe tbody tr th:only-of-type {\n        vertical-align: middle;\n    }\n\n    .dataframe tbody tr th {\n        vertical-align: top;\n    }\n\n    .dataframe thead th {\n        text-align: right;\n    }\n</style>\n<table border=\"1\" class=\"dataframe\">\n  <thead>\n    <tr style=\"text-align: right;\">\n      <th></th>\n      <th>ID</th>\n      <th>v1</th>\n      <th>v2</th>\n      <th>v3</th>\n      <th>v4</th>\n      <th>v5</th>\n      <th>v6</th>\n      <th>v7</th>\n      <th>v8</th>\n      <th>v9</th>\n      <th>...</th>\n      <th>v122</th>\n      <th>v123</th>\n      <th>v124</th>\n      <th>v125</th>\n      <th>v126</th>\n      <th>v127</th>\n      <th>v128</th>\n      <th>v129</th>\n      <th>v130</th>\n      <th>v131</th>\n    </tr>\n  </thead>\n  <tbody>\n    <tr>\n      <th>0</th>\n      <td>0</td>\n      <td>1.375465e+00</td>\n      <td>11.361141</td>\n      <td>C</td>\n      <td>4.200778</td>\n      <td>6.577000</td>\n      <td>2.081784</td>\n      <td>1.784386</td>\n      <td>0.011094</td>\n      <td>9.523810</td>\n      <td>...</td>\n      <td>7.619048</td>\n      <td>1.815241</td>\n      <td>1.112270e-07</td>\n      <td>AF</td>\n      <td>1.292368</td>\n      <td>3.903345</td>\n      <td>1.485925</td>\n      <td>0</td>\n      <td>2.333334</td>\n      <td>1.428572e+00</td>\n    </tr>\n    <tr>\n      <th>1</th>\n      <td>1</td>\n      <td>NaN</td>\n      <td>NaN</td>\n      <td>C</td>\n      <td>NaN</td>\n      <td>NaN</td>\n      <td>NaN</td>\n      <td>NaN</td>\n      <td>NaN</td>\n      <td>NaN</td>\n      <td>...</td>\n      <td>NaN</td>\n      <td>NaN</td>\n      <td>NaN</td>\n      <td>I</td>\n      <td>NaN</td>\n      <td>NaN</td>\n      <td>NaN</td>\n      <td>0</td>\n      <td>NaN</td>\n      <td>NaN</td>\n    </tr>\n    <tr>\n      <th>2</th>\n      <td>2</td>\n      <td>-4.903407e-07</td>\n      <td>8.201529</td>\n      <td>C</td>\n      <td>4.544371</td>\n      <td>6.550100</td>\n      <td>1.558442</td>\n      <td>2.467532</td>\n      <td>0.007164</td>\n      <td>7.142858</td>\n      <td>...</td>\n      <td>5.714286</td>\n      <td>1.970928</td>\n      <td>1.412265e-02</td>\n      <td>AV</td>\n      <td>1.128724</td>\n      <td>5.844156</td>\n      <td>1.475892</td>\n      <td>0</td>\n      <td>1.263157</td>\n      <td>-6.380022e-07</td>\n    </tr>\n    <tr>\n      <th>3</th>\n      <td>7</td>\n      <td>2.661870e+00</td>\n      <td>3.041241</td>\n      <td>C</td>\n      <td>1.657216</td>\n      <td>9.773080</td>\n      <td>2.078337</td>\n      <td>1.430855</td>\n      <td>1.252157</td>\n      <td>7.959596</td>\n      <td>...</td>\n      <td>4.404040</td>\n      <td>8.163614</td>\n      <td>1.100329e+00</td>\n      <td>B</td>\n      <td>1.988688</td>\n      <td>1.558753</td>\n      <td>2.448814</td>\n      <td>0</td>\n      <td>5.385474</td>\n      <td>1.493777e+00</td>\n    </tr>\n    <tr>\n      <th>4</th>\n      <td>10</td>\n      <td>1.252822e+00</td>\n      <td>11.283352</td>\n      <td>C</td>\n      <td>4.638388</td>\n      <td>8.520510</td>\n      <td>2.302484</td>\n      <td>3.510159</td>\n      <td>0.074263</td>\n      <td>7.612904</td>\n      <td>...</td>\n      <td>6.580644</td>\n      <td>1.325654</td>\n      <td>2.584588e-01</td>\n      <td>A</td>\n      <td>1.863796</td>\n      <td>2.666478</td>\n      <td>2.374275</td>\n      <td>0</td>\n      <td>0.681672</td>\n      <td>2.264151e+00</td>\n    </tr>\n    <tr>\n      <th>...</th>\n      <td>...</td>\n      <td>...</td>\n      <td>...</td>\n      <td>...</td>\n      <td>...</td>\n      <td>...</td>\n      <td>...</td>\n      <td>...</td>\n      <td>...</td>\n      <td>...</td>\n      <td>...</td>\n      <td>...</td>\n      <td>...</td>\n      <td>...</td>\n      <td>...</td>\n      <td>...</td>\n      <td>...</td>\n      <td>...</td>\n      <td>...</td>\n      <td>...</td>\n      <td>...</td>\n    </tr>\n    <tr>\n      <th>114388</th>\n      <td>228700</td>\n      <td>NaN</td>\n      <td>NaN</td>\n      <td>C</td>\n      <td>NaN</td>\n      <td>NaN</td>\n      <td>NaN</td>\n      <td>NaN</td>\n      <td>NaN</td>\n      <td>NaN</td>\n      <td>...</td>\n      <td>NaN</td>\n      <td>NaN</td>\n      <td>NaN</td>\n      <td>AG</td>\n      <td>NaN</td>\n      <td>NaN</td>\n      <td>NaN</td>\n      <td>0</td>\n      <td>NaN</td>\n      <td>NaN</td>\n    </tr>\n    <tr>\n      <th>114389</th>\n      <td>228703</td>\n      <td>NaN</td>\n      <td>NaN</td>\n      <td>C</td>\n      <td>NaN</td>\n      <td>NaN</td>\n      <td>NaN</td>\n      <td>NaN</td>\n      <td>NaN</td>\n      <td>NaN</td>\n      <td>...</td>\n      <td>NaN</td>\n      <td>NaN</td>\n      <td>NaN</td>\n      <td>H</td>\n      <td>NaN</td>\n      <td>NaN</td>\n      <td>NaN</td>\n      <td>0</td>\n      <td>NaN</td>\n      <td>NaN</td>\n    </tr>\n    <tr>\n      <th>114390</th>\n      <td>228704</td>\n      <td>1.523740e+00</td>\n      <td>6.571597</td>\n      <td>C</td>\n      <td>3.827086</td>\n      <td>8.824122</td>\n      <td>2.635660</td>\n      <td>2.218992</td>\n      <td>6.534959</td>\n      <td>8.852942</td>\n      <td>...</td>\n      <td>6.852941</td>\n      <td>2.093560</td>\n      <td>5.111015e+00</td>\n      <td>V</td>\n      <td>1.826453</td>\n      <td>2.661700</td>\n      <td>1.601567</td>\n      <td>0</td>\n      <td>1.816594</td>\n      <td>1.634616e+00</td>\n    </tr>\n    <tr>\n      <th>114391</th>\n      <td>228706</td>\n      <td>NaN</td>\n      <td>NaN</td>\n      <td>C</td>\n      <td>NaN</td>\n      <td>NaN</td>\n      <td>NaN</td>\n      <td>NaN</td>\n      <td>NaN</td>\n      <td>NaN</td>\n      <td>...</td>\n      <td>NaN</td>\n      <td>NaN</td>\n      <td>NaN</td>\n      <td>AZ</td>\n      <td>NaN</td>\n      <td>NaN</td>\n      <td>NaN</td>\n      <td>0</td>\n      <td>NaN</td>\n      <td>NaN</td>\n    </tr>\n    <tr>\n      <th>114392</th>\n      <td>228709</td>\n      <td>1.633554e+00</td>\n      <td>7.520583</td>\n      <td>C</td>\n      <td>4.264139</td>\n      <td>6.402152</td>\n      <td>1.766004</td>\n      <td>2.207506</td>\n      <td>0.020415</td>\n      <td>9.333333</td>\n      <td>...</td>\n      <td>6.222221</td>\n      <td>2.740374</td>\n      <td>9.168495e-07</td>\n      <td>BP</td>\n      <td>1.726724</td>\n      <td>4.966887</td>\n      <td>1.429776</td>\n      <td>0</td>\n      <td>1.600000</td>\n      <td>2.000000e+00</td>\n    </tr>\n  </tbody>\n</table>\n<p>114393 rows × 132 columns</p>\n</div>"
     },
     "execution_count": 87,
     "metadata": {},
     "output_type": "execute_result"
    }
   ],
   "source": [
    "test_df"
   ],
   "metadata": {
    "collapsed": false,
    "ExecuteTime": {
     "end_time": "2023-08-13T08:37:31.559421800Z",
     "start_time": "2023-08-13T08:37:31.505422900Z"
    }
   },
   "id": "7effad2322e38da3"
  },
  {
   "cell_type": "code",
   "execution_count": 88,
   "outputs": [
    {
     "data": {
      "text/plain": "            ID  PredictedProb\n0            0            0.5\n1            1            0.5\n2            2            0.5\n3            7            0.5\n4           10            0.5\n...        ...            ...\n114388  228700            0.5\n114389  228703            0.5\n114390  228704            0.5\n114391  228706            0.5\n114392  228709            0.5\n\n[114393 rows x 2 columns]",
      "text/html": "<div>\n<style scoped>\n    .dataframe tbody tr th:only-of-type {\n        vertical-align: middle;\n    }\n\n    .dataframe tbody tr th {\n        vertical-align: top;\n    }\n\n    .dataframe thead th {\n        text-align: right;\n    }\n</style>\n<table border=\"1\" class=\"dataframe\">\n  <thead>\n    <tr style=\"text-align: right;\">\n      <th></th>\n      <th>ID</th>\n      <th>PredictedProb</th>\n    </tr>\n  </thead>\n  <tbody>\n    <tr>\n      <th>0</th>\n      <td>0</td>\n      <td>0.5</td>\n    </tr>\n    <tr>\n      <th>1</th>\n      <td>1</td>\n      <td>0.5</td>\n    </tr>\n    <tr>\n      <th>2</th>\n      <td>2</td>\n      <td>0.5</td>\n    </tr>\n    <tr>\n      <th>3</th>\n      <td>7</td>\n      <td>0.5</td>\n    </tr>\n    <tr>\n      <th>4</th>\n      <td>10</td>\n      <td>0.5</td>\n    </tr>\n    <tr>\n      <th>...</th>\n      <td>...</td>\n      <td>...</td>\n    </tr>\n    <tr>\n      <th>114388</th>\n      <td>228700</td>\n      <td>0.5</td>\n    </tr>\n    <tr>\n      <th>114389</th>\n      <td>228703</td>\n      <td>0.5</td>\n    </tr>\n    <tr>\n      <th>114390</th>\n      <td>228704</td>\n      <td>0.5</td>\n    </tr>\n    <tr>\n      <th>114391</th>\n      <td>228706</td>\n      <td>0.5</td>\n    </tr>\n    <tr>\n      <th>114392</th>\n      <td>228709</td>\n      <td>0.5</td>\n    </tr>\n  </tbody>\n</table>\n<p>114393 rows × 2 columns</p>\n</div>"
     },
     "execution_count": 88,
     "metadata": {},
     "output_type": "execute_result"
    }
   ],
   "source": [
    "sample_df"
   ],
   "metadata": {
    "collapsed": false,
    "ExecuteTime": {
     "end_time": "2023-08-13T08:37:31.589422800Z",
     "start_time": "2023-08-13T08:37:31.543423500Z"
    }
   },
   "id": "335dc74baed05717"
  },
  {
   "cell_type": "code",
   "execution_count": 89,
   "outputs": [
    {
     "data": {
      "text/plain": "            ID  target        v1        v2 v3        v4         v5        v6  \\\n0            3     1.0  1.335739  8.727474  C  3.921026   7.915266  2.599278   \n1            4     1.0       NaN       NaN  C       NaN   9.191265       NaN   \n2            5     1.0  0.943877  5.310079  C  4.410969   5.326159  3.979592   \n3            6     1.0  0.797415  8.304757  C  4.225930  11.627438  2.097700   \n4            8     1.0       NaN       NaN  C       NaN        NaN       NaN   \n...        ...     ...       ...       ... ..       ...        ...       ...   \n114388  228700     NaN       NaN       NaN  C       NaN        NaN       NaN   \n114389  228703     NaN       NaN       NaN  C       NaN        NaN       NaN   \n114390  228704     NaN  1.523740  6.571597  C  3.827086   8.824122  2.635660   \n114391  228706     NaN       NaN       NaN  C       NaN        NaN       NaN   \n114392  228709     NaN  1.633554  7.520583  C  4.264139   6.402152  1.766004   \n\n              v7        v8  ...      v122      v123          v124  v125  \\\n0       3.176895  0.012941  ...  8.000000  1.989780  3.575369e-02    AU   \n1            NaN  2.301630  ...       NaN       NaN  5.988956e-01    AF   \n2       3.928571  0.019645  ...  9.333333  2.477596  1.345191e-02    AE   \n3       1.987549  0.171947  ...  7.018256  1.812795  2.267384e-03    CJ   \n4            NaN       NaN  ...       NaN       NaN           NaN     Z   \n...          ...       ...  ...       ...       ...           ...   ...   \n114388       NaN       NaN  ...       NaN       NaN           NaN    AG   \n114389       NaN       NaN  ...       NaN       NaN           NaN     H   \n114390  2.218992  6.534959  ...  6.852941  2.093560  5.111015e+00     V   \n114391       NaN       NaN  ...       NaN       NaN           NaN    AZ   \n114392  2.207506  0.020415  ...  6.222221  2.740374  9.168495e-07    BP   \n\n            v126      v127      v128  v129      v130      v131  \n0       1.804126  3.113719  2.024285     0  0.636365  2.857144  \n1            NaN       NaN  1.957825     0       NaN       NaN  \n2       1.773709  3.922193  1.120468     2  0.883118  1.176472  \n3       1.415230  2.954381  1.990847     1  1.677108  1.034483  \n4            NaN       NaN       NaN     0       NaN       NaN  \n...          ...       ...       ...   ...       ...       ...  \n114388       NaN       NaN       NaN     0       NaN       NaN  \n114389       NaN       NaN       NaN     0       NaN       NaN  \n114390  1.826453  2.661700  1.601567     0  1.816594  1.634616  \n114391       NaN       NaN       NaN     0       NaN       NaN  \n114392  1.726724  4.966887  1.429776     0  1.600000  2.000000  \n\n[228714 rows x 133 columns]",
      "text/html": "<div>\n<style scoped>\n    .dataframe tbody tr th:only-of-type {\n        vertical-align: middle;\n    }\n\n    .dataframe tbody tr th {\n        vertical-align: top;\n    }\n\n    .dataframe thead th {\n        text-align: right;\n    }\n</style>\n<table border=\"1\" class=\"dataframe\">\n  <thead>\n    <tr style=\"text-align: right;\">\n      <th></th>\n      <th>ID</th>\n      <th>target</th>\n      <th>v1</th>\n      <th>v2</th>\n      <th>v3</th>\n      <th>v4</th>\n      <th>v5</th>\n      <th>v6</th>\n      <th>v7</th>\n      <th>v8</th>\n      <th>...</th>\n      <th>v122</th>\n      <th>v123</th>\n      <th>v124</th>\n      <th>v125</th>\n      <th>v126</th>\n      <th>v127</th>\n      <th>v128</th>\n      <th>v129</th>\n      <th>v130</th>\n      <th>v131</th>\n    </tr>\n  </thead>\n  <tbody>\n    <tr>\n      <th>0</th>\n      <td>3</td>\n      <td>1.0</td>\n      <td>1.335739</td>\n      <td>8.727474</td>\n      <td>C</td>\n      <td>3.921026</td>\n      <td>7.915266</td>\n      <td>2.599278</td>\n      <td>3.176895</td>\n      <td>0.012941</td>\n      <td>...</td>\n      <td>8.000000</td>\n      <td>1.989780</td>\n      <td>3.575369e-02</td>\n      <td>AU</td>\n      <td>1.804126</td>\n      <td>3.113719</td>\n      <td>2.024285</td>\n      <td>0</td>\n      <td>0.636365</td>\n      <td>2.857144</td>\n    </tr>\n    <tr>\n      <th>1</th>\n      <td>4</td>\n      <td>1.0</td>\n      <td>NaN</td>\n      <td>NaN</td>\n      <td>C</td>\n      <td>NaN</td>\n      <td>9.191265</td>\n      <td>NaN</td>\n      <td>NaN</td>\n      <td>2.301630</td>\n      <td>...</td>\n      <td>NaN</td>\n      <td>NaN</td>\n      <td>5.988956e-01</td>\n      <td>AF</td>\n      <td>NaN</td>\n      <td>NaN</td>\n      <td>1.957825</td>\n      <td>0</td>\n      <td>NaN</td>\n      <td>NaN</td>\n    </tr>\n    <tr>\n      <th>2</th>\n      <td>5</td>\n      <td>1.0</td>\n      <td>0.943877</td>\n      <td>5.310079</td>\n      <td>C</td>\n      <td>4.410969</td>\n      <td>5.326159</td>\n      <td>3.979592</td>\n      <td>3.928571</td>\n      <td>0.019645</td>\n      <td>...</td>\n      <td>9.333333</td>\n      <td>2.477596</td>\n      <td>1.345191e-02</td>\n      <td>AE</td>\n      <td>1.773709</td>\n      <td>3.922193</td>\n      <td>1.120468</td>\n      <td>2</td>\n      <td>0.883118</td>\n      <td>1.176472</td>\n    </tr>\n    <tr>\n      <th>3</th>\n      <td>6</td>\n      <td>1.0</td>\n      <td>0.797415</td>\n      <td>8.304757</td>\n      <td>C</td>\n      <td>4.225930</td>\n      <td>11.627438</td>\n      <td>2.097700</td>\n      <td>1.987549</td>\n      <td>0.171947</td>\n      <td>...</td>\n      <td>7.018256</td>\n      <td>1.812795</td>\n      <td>2.267384e-03</td>\n      <td>CJ</td>\n      <td>1.415230</td>\n      <td>2.954381</td>\n      <td>1.990847</td>\n      <td>1</td>\n      <td>1.677108</td>\n      <td>1.034483</td>\n    </tr>\n    <tr>\n      <th>4</th>\n      <td>8</td>\n      <td>1.0</td>\n      <td>NaN</td>\n      <td>NaN</td>\n      <td>C</td>\n      <td>NaN</td>\n      <td>NaN</td>\n      <td>NaN</td>\n      <td>NaN</td>\n      <td>NaN</td>\n      <td>...</td>\n      <td>NaN</td>\n      <td>NaN</td>\n      <td>NaN</td>\n      <td>Z</td>\n      <td>NaN</td>\n      <td>NaN</td>\n      <td>NaN</td>\n      <td>0</td>\n      <td>NaN</td>\n      <td>NaN</td>\n    </tr>\n    <tr>\n      <th>...</th>\n      <td>...</td>\n      <td>...</td>\n      <td>...</td>\n      <td>...</td>\n      <td>...</td>\n      <td>...</td>\n      <td>...</td>\n      <td>...</td>\n      <td>...</td>\n      <td>...</td>\n      <td>...</td>\n      <td>...</td>\n      <td>...</td>\n      <td>...</td>\n      <td>...</td>\n      <td>...</td>\n      <td>...</td>\n      <td>...</td>\n      <td>...</td>\n      <td>...</td>\n      <td>...</td>\n    </tr>\n    <tr>\n      <th>114388</th>\n      <td>228700</td>\n      <td>NaN</td>\n      <td>NaN</td>\n      <td>NaN</td>\n      <td>C</td>\n      <td>NaN</td>\n      <td>NaN</td>\n      <td>NaN</td>\n      <td>NaN</td>\n      <td>NaN</td>\n      <td>...</td>\n      <td>NaN</td>\n      <td>NaN</td>\n      <td>NaN</td>\n      <td>AG</td>\n      <td>NaN</td>\n      <td>NaN</td>\n      <td>NaN</td>\n      <td>0</td>\n      <td>NaN</td>\n      <td>NaN</td>\n    </tr>\n    <tr>\n      <th>114389</th>\n      <td>228703</td>\n      <td>NaN</td>\n      <td>NaN</td>\n      <td>NaN</td>\n      <td>C</td>\n      <td>NaN</td>\n      <td>NaN</td>\n      <td>NaN</td>\n      <td>NaN</td>\n      <td>NaN</td>\n      <td>...</td>\n      <td>NaN</td>\n      <td>NaN</td>\n      <td>NaN</td>\n      <td>H</td>\n      <td>NaN</td>\n      <td>NaN</td>\n      <td>NaN</td>\n      <td>0</td>\n      <td>NaN</td>\n      <td>NaN</td>\n    </tr>\n    <tr>\n      <th>114390</th>\n      <td>228704</td>\n      <td>NaN</td>\n      <td>1.523740</td>\n      <td>6.571597</td>\n      <td>C</td>\n      <td>3.827086</td>\n      <td>8.824122</td>\n      <td>2.635660</td>\n      <td>2.218992</td>\n      <td>6.534959</td>\n      <td>...</td>\n      <td>6.852941</td>\n      <td>2.093560</td>\n      <td>5.111015e+00</td>\n      <td>V</td>\n      <td>1.826453</td>\n      <td>2.661700</td>\n      <td>1.601567</td>\n      <td>0</td>\n      <td>1.816594</td>\n      <td>1.634616</td>\n    </tr>\n    <tr>\n      <th>114391</th>\n      <td>228706</td>\n      <td>NaN</td>\n      <td>NaN</td>\n      <td>NaN</td>\n      <td>C</td>\n      <td>NaN</td>\n      <td>NaN</td>\n      <td>NaN</td>\n      <td>NaN</td>\n      <td>NaN</td>\n      <td>...</td>\n      <td>NaN</td>\n      <td>NaN</td>\n      <td>NaN</td>\n      <td>AZ</td>\n      <td>NaN</td>\n      <td>NaN</td>\n      <td>NaN</td>\n      <td>0</td>\n      <td>NaN</td>\n      <td>NaN</td>\n    </tr>\n    <tr>\n      <th>114392</th>\n      <td>228709</td>\n      <td>NaN</td>\n      <td>1.633554</td>\n      <td>7.520583</td>\n      <td>C</td>\n      <td>4.264139</td>\n      <td>6.402152</td>\n      <td>1.766004</td>\n      <td>2.207506</td>\n      <td>0.020415</td>\n      <td>...</td>\n      <td>6.222221</td>\n      <td>2.740374</td>\n      <td>9.168495e-07</td>\n      <td>BP</td>\n      <td>1.726724</td>\n      <td>4.966887</td>\n      <td>1.429776</td>\n      <td>0</td>\n      <td>1.600000</td>\n      <td>2.000000</td>\n    </tr>\n  </tbody>\n</table>\n<p>228714 rows × 133 columns</p>\n</div>"
     },
     "execution_count": 89,
     "metadata": {},
     "output_type": "execute_result"
    }
   ],
   "source": [
    "train_test_df = pd.concat([train_df, test_df], axis=0)\n",
    "train_test_df"
   ],
   "metadata": {
    "collapsed": false,
    "ExecuteTime": {
     "end_time": "2023-08-13T08:37:31.754923800Z",
     "start_time": "2023-08-13T08:37:31.551925Z"
    }
   },
   "id": "fbb35602ff87cace"
  },
  {
   "cell_type": "code",
   "execution_count": 90,
   "outputs": [
    {
     "data": {
      "text/plain": "ID          int64\ntarget    float64\nv1        float64\nv2        float64\nv3         object\n           ...   \nv127      float64\nv128      float64\nv129        int64\nv130      float64\nv131      float64\nLength: 133, dtype: object"
     },
     "execution_count": 90,
     "metadata": {},
     "output_type": "execute_result"
    }
   ],
   "source": [
    "train_test_df.dtypes"
   ],
   "metadata": {
    "collapsed": false,
    "ExecuteTime": {
     "end_time": "2023-08-13T08:37:31.754923800Z",
     "start_time": "2023-08-13T08:37:31.714924100Z"
    }
   },
   "id": "b1b1177e05ad6b93"
  },
  {
   "cell_type": "code",
   "execution_count": 91,
   "outputs": [],
   "source": [
    "# カテゴリカル変数の列を特定\n",
    "cat_cols = train_test_df.select_dtypes(include=['object']).columns.tolist()\n",
    "\n",
    "for col in cat_cols:\n",
    "    unique_values = train_test_df[col].dropna().unique()\n",
    "\n",
    "    le = LabelEncoder()\n",
    "    le.fit(unique_values)\n",
    "\n",
    "    # エンコーディングされたデータで元の列を置き換え（NaNはそのまま保持）\n",
    "    train_test_df.loc[train_test_df[col].notna(), col] = le.transform(train_test_df[col].dropna())\n",
    "\n",
    "    # エンコーディング後のカテゴリ値を int 型に変換\n",
    "    train_test_df[col] = train_test_df[col].astype('Int64')  # 'Int64'はNaNを含む整数データ型"
   ],
   "metadata": {
    "collapsed": false,
    "ExecuteTime": {
     "end_time": "2023-08-13T08:37:33.081423100Z",
     "start_time": "2023-08-13T08:37:31.719422800Z"
    }
   },
   "id": "4838dbfec8b8ac75"
  },
  {
   "cell_type": "code",
   "execution_count": 92,
   "outputs": [
    {
     "data": {
      "text/plain": "            ID  target        v1        v2  v3        v4         v5        v6  \\\n0            3     1.0  1.335739  8.727474   2  3.921026   7.915266  2.599278   \n1            4     1.0       NaN       NaN   2       NaN   9.191265       NaN   \n2            5     1.0  0.943877  5.310079   2  4.410969   5.326159  3.979592   \n3            6     1.0  0.797415  8.304757   2  4.225930  11.627438  2.097700   \n4            8     1.0       NaN       NaN   2       NaN        NaN       NaN   \n...        ...     ...       ...       ...  ..       ...        ...       ...   \n114388  228700     NaN       NaN       NaN   2       NaN        NaN       NaN   \n114389  228703     NaN       NaN       NaN   2       NaN        NaN       NaN   \n114390  228704     NaN  1.523740  6.571597   2  3.827086   8.824122  2.635660   \n114391  228706     NaN       NaN       NaN   2       NaN        NaN       NaN   \n114392  228709     NaN  1.633554  7.520583   2  4.264139   6.402152  1.766004   \n\n              v7        v8  ...      v122      v123          v124  v125  \\\n0       3.176895  0.012941  ...  8.000000  1.989780  3.575369e-02    21   \n1            NaN  2.301630  ...       NaN       NaN  5.988956e-01     6   \n2       3.928571  0.019645  ...  9.333333  2.477596  1.345191e-02     5   \n3       1.987549  0.171947  ...  7.018256  1.812795  2.267384e-03    64   \n4            NaN       NaN  ...       NaN       NaN           NaN    89   \n...          ...       ...  ...       ...       ...           ...   ...   \n114388       NaN       NaN  ...       NaN       NaN           NaN     7   \n114389       NaN       NaN  ...       NaN       NaN           NaN    71   \n114390  2.218992  6.534959  ...  6.852941  2.093560  5.111015e+00    85   \n114391       NaN       NaN  ...       NaN       NaN           NaN    26   \n114392  2.207506  0.020415  ...  6.222221  2.740374  9.168495e-07    43   \n\n            v126      v127      v128  v129      v130      v131  \n0       1.804126  3.113719  2.024285     0  0.636365  2.857144  \n1            NaN       NaN  1.957825     0       NaN       NaN  \n2       1.773709  3.922193  1.120468     2  0.883118  1.176472  \n3       1.415230  2.954381  1.990847     1  1.677108  1.034483  \n4            NaN       NaN       NaN     0       NaN       NaN  \n...          ...       ...       ...   ...       ...       ...  \n114388       NaN       NaN       NaN     0       NaN       NaN  \n114389       NaN       NaN       NaN     0       NaN       NaN  \n114390  1.826453  2.661700  1.601567     0  1.816594  1.634616  \n114391       NaN       NaN       NaN     0       NaN       NaN  \n114392  1.726724  4.966887  1.429776     0  1.600000  2.000000  \n\n[228714 rows x 133 columns]",
      "text/html": "<div>\n<style scoped>\n    .dataframe tbody tr th:only-of-type {\n        vertical-align: middle;\n    }\n\n    .dataframe tbody tr th {\n        vertical-align: top;\n    }\n\n    .dataframe thead th {\n        text-align: right;\n    }\n</style>\n<table border=\"1\" class=\"dataframe\">\n  <thead>\n    <tr style=\"text-align: right;\">\n      <th></th>\n      <th>ID</th>\n      <th>target</th>\n      <th>v1</th>\n      <th>v2</th>\n      <th>v3</th>\n      <th>v4</th>\n      <th>v5</th>\n      <th>v6</th>\n      <th>v7</th>\n      <th>v8</th>\n      <th>...</th>\n      <th>v122</th>\n      <th>v123</th>\n      <th>v124</th>\n      <th>v125</th>\n      <th>v126</th>\n      <th>v127</th>\n      <th>v128</th>\n      <th>v129</th>\n      <th>v130</th>\n      <th>v131</th>\n    </tr>\n  </thead>\n  <tbody>\n    <tr>\n      <th>0</th>\n      <td>3</td>\n      <td>1.0</td>\n      <td>1.335739</td>\n      <td>8.727474</td>\n      <td>2</td>\n      <td>3.921026</td>\n      <td>7.915266</td>\n      <td>2.599278</td>\n      <td>3.176895</td>\n      <td>0.012941</td>\n      <td>...</td>\n      <td>8.000000</td>\n      <td>1.989780</td>\n      <td>3.575369e-02</td>\n      <td>21</td>\n      <td>1.804126</td>\n      <td>3.113719</td>\n      <td>2.024285</td>\n      <td>0</td>\n      <td>0.636365</td>\n      <td>2.857144</td>\n    </tr>\n    <tr>\n      <th>1</th>\n      <td>4</td>\n      <td>1.0</td>\n      <td>NaN</td>\n      <td>NaN</td>\n      <td>2</td>\n      <td>NaN</td>\n      <td>9.191265</td>\n      <td>NaN</td>\n      <td>NaN</td>\n      <td>2.301630</td>\n      <td>...</td>\n      <td>NaN</td>\n      <td>NaN</td>\n      <td>5.988956e-01</td>\n      <td>6</td>\n      <td>NaN</td>\n      <td>NaN</td>\n      <td>1.957825</td>\n      <td>0</td>\n      <td>NaN</td>\n      <td>NaN</td>\n    </tr>\n    <tr>\n      <th>2</th>\n      <td>5</td>\n      <td>1.0</td>\n      <td>0.943877</td>\n      <td>5.310079</td>\n      <td>2</td>\n      <td>4.410969</td>\n      <td>5.326159</td>\n      <td>3.979592</td>\n      <td>3.928571</td>\n      <td>0.019645</td>\n      <td>...</td>\n      <td>9.333333</td>\n      <td>2.477596</td>\n      <td>1.345191e-02</td>\n      <td>5</td>\n      <td>1.773709</td>\n      <td>3.922193</td>\n      <td>1.120468</td>\n      <td>2</td>\n      <td>0.883118</td>\n      <td>1.176472</td>\n    </tr>\n    <tr>\n      <th>3</th>\n      <td>6</td>\n      <td>1.0</td>\n      <td>0.797415</td>\n      <td>8.304757</td>\n      <td>2</td>\n      <td>4.225930</td>\n      <td>11.627438</td>\n      <td>2.097700</td>\n      <td>1.987549</td>\n      <td>0.171947</td>\n      <td>...</td>\n      <td>7.018256</td>\n      <td>1.812795</td>\n      <td>2.267384e-03</td>\n      <td>64</td>\n      <td>1.415230</td>\n      <td>2.954381</td>\n      <td>1.990847</td>\n      <td>1</td>\n      <td>1.677108</td>\n      <td>1.034483</td>\n    </tr>\n    <tr>\n      <th>4</th>\n      <td>8</td>\n      <td>1.0</td>\n      <td>NaN</td>\n      <td>NaN</td>\n      <td>2</td>\n      <td>NaN</td>\n      <td>NaN</td>\n      <td>NaN</td>\n      <td>NaN</td>\n      <td>NaN</td>\n      <td>...</td>\n      <td>NaN</td>\n      <td>NaN</td>\n      <td>NaN</td>\n      <td>89</td>\n      <td>NaN</td>\n      <td>NaN</td>\n      <td>NaN</td>\n      <td>0</td>\n      <td>NaN</td>\n      <td>NaN</td>\n    </tr>\n    <tr>\n      <th>...</th>\n      <td>...</td>\n      <td>...</td>\n      <td>...</td>\n      <td>...</td>\n      <td>...</td>\n      <td>...</td>\n      <td>...</td>\n      <td>...</td>\n      <td>...</td>\n      <td>...</td>\n      <td>...</td>\n      <td>...</td>\n      <td>...</td>\n      <td>...</td>\n      <td>...</td>\n      <td>...</td>\n      <td>...</td>\n      <td>...</td>\n      <td>...</td>\n      <td>...</td>\n      <td>...</td>\n    </tr>\n    <tr>\n      <th>114388</th>\n      <td>228700</td>\n      <td>NaN</td>\n      <td>NaN</td>\n      <td>NaN</td>\n      <td>2</td>\n      <td>NaN</td>\n      <td>NaN</td>\n      <td>NaN</td>\n      <td>NaN</td>\n      <td>NaN</td>\n      <td>...</td>\n      <td>NaN</td>\n      <td>NaN</td>\n      <td>NaN</td>\n      <td>7</td>\n      <td>NaN</td>\n      <td>NaN</td>\n      <td>NaN</td>\n      <td>0</td>\n      <td>NaN</td>\n      <td>NaN</td>\n    </tr>\n    <tr>\n      <th>114389</th>\n      <td>228703</td>\n      <td>NaN</td>\n      <td>NaN</td>\n      <td>NaN</td>\n      <td>2</td>\n      <td>NaN</td>\n      <td>NaN</td>\n      <td>NaN</td>\n      <td>NaN</td>\n      <td>NaN</td>\n      <td>...</td>\n      <td>NaN</td>\n      <td>NaN</td>\n      <td>NaN</td>\n      <td>71</td>\n      <td>NaN</td>\n      <td>NaN</td>\n      <td>NaN</td>\n      <td>0</td>\n      <td>NaN</td>\n      <td>NaN</td>\n    </tr>\n    <tr>\n      <th>114390</th>\n      <td>228704</td>\n      <td>NaN</td>\n      <td>1.523740</td>\n      <td>6.571597</td>\n      <td>2</td>\n      <td>3.827086</td>\n      <td>8.824122</td>\n      <td>2.635660</td>\n      <td>2.218992</td>\n      <td>6.534959</td>\n      <td>...</td>\n      <td>6.852941</td>\n      <td>2.093560</td>\n      <td>5.111015e+00</td>\n      <td>85</td>\n      <td>1.826453</td>\n      <td>2.661700</td>\n      <td>1.601567</td>\n      <td>0</td>\n      <td>1.816594</td>\n      <td>1.634616</td>\n    </tr>\n    <tr>\n      <th>114391</th>\n      <td>228706</td>\n      <td>NaN</td>\n      <td>NaN</td>\n      <td>NaN</td>\n      <td>2</td>\n      <td>NaN</td>\n      <td>NaN</td>\n      <td>NaN</td>\n      <td>NaN</td>\n      <td>NaN</td>\n      <td>...</td>\n      <td>NaN</td>\n      <td>NaN</td>\n      <td>NaN</td>\n      <td>26</td>\n      <td>NaN</td>\n      <td>NaN</td>\n      <td>NaN</td>\n      <td>0</td>\n      <td>NaN</td>\n      <td>NaN</td>\n    </tr>\n    <tr>\n      <th>114392</th>\n      <td>228709</td>\n      <td>NaN</td>\n      <td>1.633554</td>\n      <td>7.520583</td>\n      <td>2</td>\n      <td>4.264139</td>\n      <td>6.402152</td>\n      <td>1.766004</td>\n      <td>2.207506</td>\n      <td>0.020415</td>\n      <td>...</td>\n      <td>6.222221</td>\n      <td>2.740374</td>\n      <td>9.168495e-07</td>\n      <td>43</td>\n      <td>1.726724</td>\n      <td>4.966887</td>\n      <td>1.429776</td>\n      <td>0</td>\n      <td>1.600000</td>\n      <td>2.000000</td>\n    </tr>\n  </tbody>\n</table>\n<p>228714 rows × 133 columns</p>\n</div>"
     },
     "execution_count": 92,
     "metadata": {},
     "output_type": "execute_result"
    }
   ],
   "source": [
    "train_test_df"
   ],
   "metadata": {
    "collapsed": false,
    "ExecuteTime": {
     "end_time": "2023-08-13T08:37:33.143922700Z",
     "start_time": "2023-08-13T08:37:33.083424100Z"
    }
   },
   "id": "5eeafae2693e6013"
  },
  {
   "cell_type": "code",
   "execution_count": 93,
   "outputs": [
    {
     "data": {
      "text/plain": "ID          int64\ntarget    float64\nv1        float64\nv2        float64\nv3          Int64\n           ...   \nv127      float64\nv128      float64\nv129        int64\nv130      float64\nv131      float64\nLength: 133, dtype: object"
     },
     "execution_count": 93,
     "metadata": {},
     "output_type": "execute_result"
    }
   ],
   "source": [
    "train_test_df.dtypes"
   ],
   "metadata": {
    "collapsed": false,
    "ExecuteTime": {
     "end_time": "2023-08-13T08:37:33.143922700Z",
     "start_time": "2023-08-13T08:37:33.135924900Z"
    }
   },
   "id": "3e775526fe24e5dd"
  },
  {
   "cell_type": "code",
   "execution_count": 94,
   "outputs": [],
   "source": [
    "train_test_df_2 = train_test_df.drop('ID', axis=1)\n",
    "train_df_2 = train_test_df[np.isfinite(train_test_df[\"target\"])]\n",
    "test_df_2 = train_test_df[np.isnan(train_test_df[\"target\"])].drop(\"target\", axis=1)"
   ],
   "metadata": {
    "collapsed": false,
    "ExecuteTime": {
     "end_time": "2023-08-13T08:37:33.330422Z",
     "start_time": "2023-08-13T08:37:33.142424900Z"
    }
   },
   "id": "a6a723cbce7f722c"
  },
  {
   "cell_type": "code",
   "execution_count": 95,
   "outputs": [
    {
     "data": {
      "text/plain": "            ID  target        v1        v2  v3        v4         v5        v6  \\\n0            3     1.0  1.335739  8.727474   2  3.921026   7.915266  2.599278   \n1            4     1.0       NaN       NaN   2       NaN   9.191265       NaN   \n2            5     1.0  0.943877  5.310079   2  4.410969   5.326159  3.979592   \n3            6     1.0  0.797415  8.304757   2  4.225930  11.627438  2.097700   \n4            8     1.0       NaN       NaN   2       NaN        NaN       NaN   \n...        ...     ...       ...       ...  ..       ...        ...       ...   \n114316  228708     1.0       NaN       NaN   2       NaN        NaN       NaN   \n114317  228710     1.0       NaN       NaN   2       NaN        NaN       NaN   \n114318  228711     1.0       NaN       NaN   2       NaN  10.069277       NaN   \n114319  228712     1.0       NaN       NaN   2       NaN  10.106144       NaN   \n114320  228713     1.0  1.619763  7.932978   2  4.640085   8.473141  2.351470   \n\n              v7        v8  ...      v122      v123      v124  v125      v126  \\\n0       3.176895  0.012941  ...  8.000000  1.989780  0.035754    21  1.804126   \n1            NaN  2.301630  ...       NaN       NaN  0.598896     6       NaN   \n2       3.928571  0.019645  ...  9.333333  2.477596  0.013452     5  1.773709   \n3       1.987549  0.171947  ...  7.018256  1.812795  0.002267    64  1.415230   \n4            NaN       NaN  ...       NaN       NaN       NaN    89       NaN   \n...          ...       ...  ...       ...       ...       ...   ...       ...   \n114316       NaN       NaN  ...       NaN       NaN       NaN    12       NaN   \n114317       NaN       NaN  ...       NaN       NaN       NaN    68       NaN   \n114318       NaN  0.323324  ...       NaN       NaN  0.156764    80       NaN   \n114319       NaN  0.309226  ...       NaN       NaN  0.490658    50       NaN   \n114320  2.826766  3.479754  ...  7.936508  2.944285  3.135205    85  1.943149   \n\n            v127      v128  v129      v130      v131  \n0       3.113719  2.024285     0  0.636365  2.857144  \n1            NaN  1.957825     0       NaN       NaN  \n2       3.922193  1.120468     2  0.883118  1.176472  \n3       2.954381  1.990847     1  1.677108  1.034483  \n4            NaN       NaN     0       NaN       NaN  \n...          ...       ...   ...       ...       ...  \n114316       NaN       NaN     0       NaN       NaN  \n114317       NaN       NaN     1       NaN       NaN  \n114318       NaN  2.417606     2       NaN       NaN  \n114319       NaN  3.526650     0       NaN       NaN  \n114320  4.385553  1.604493     0  1.787610  1.386138  \n\n[114321 rows x 133 columns]",
      "text/html": "<div>\n<style scoped>\n    .dataframe tbody tr th:only-of-type {\n        vertical-align: middle;\n    }\n\n    .dataframe tbody tr th {\n        vertical-align: top;\n    }\n\n    .dataframe thead th {\n        text-align: right;\n    }\n</style>\n<table border=\"1\" class=\"dataframe\">\n  <thead>\n    <tr style=\"text-align: right;\">\n      <th></th>\n      <th>ID</th>\n      <th>target</th>\n      <th>v1</th>\n      <th>v2</th>\n      <th>v3</th>\n      <th>v4</th>\n      <th>v5</th>\n      <th>v6</th>\n      <th>v7</th>\n      <th>v8</th>\n      <th>...</th>\n      <th>v122</th>\n      <th>v123</th>\n      <th>v124</th>\n      <th>v125</th>\n      <th>v126</th>\n      <th>v127</th>\n      <th>v128</th>\n      <th>v129</th>\n      <th>v130</th>\n      <th>v131</th>\n    </tr>\n  </thead>\n  <tbody>\n    <tr>\n      <th>0</th>\n      <td>3</td>\n      <td>1.0</td>\n      <td>1.335739</td>\n      <td>8.727474</td>\n      <td>2</td>\n      <td>3.921026</td>\n      <td>7.915266</td>\n      <td>2.599278</td>\n      <td>3.176895</td>\n      <td>0.012941</td>\n      <td>...</td>\n      <td>8.000000</td>\n      <td>1.989780</td>\n      <td>0.035754</td>\n      <td>21</td>\n      <td>1.804126</td>\n      <td>3.113719</td>\n      <td>2.024285</td>\n      <td>0</td>\n      <td>0.636365</td>\n      <td>2.857144</td>\n    </tr>\n    <tr>\n      <th>1</th>\n      <td>4</td>\n      <td>1.0</td>\n      <td>NaN</td>\n      <td>NaN</td>\n      <td>2</td>\n      <td>NaN</td>\n      <td>9.191265</td>\n      <td>NaN</td>\n      <td>NaN</td>\n      <td>2.301630</td>\n      <td>...</td>\n      <td>NaN</td>\n      <td>NaN</td>\n      <td>0.598896</td>\n      <td>6</td>\n      <td>NaN</td>\n      <td>NaN</td>\n      <td>1.957825</td>\n      <td>0</td>\n      <td>NaN</td>\n      <td>NaN</td>\n    </tr>\n    <tr>\n      <th>2</th>\n      <td>5</td>\n      <td>1.0</td>\n      <td>0.943877</td>\n      <td>5.310079</td>\n      <td>2</td>\n      <td>4.410969</td>\n      <td>5.326159</td>\n      <td>3.979592</td>\n      <td>3.928571</td>\n      <td>0.019645</td>\n      <td>...</td>\n      <td>9.333333</td>\n      <td>2.477596</td>\n      <td>0.013452</td>\n      <td>5</td>\n      <td>1.773709</td>\n      <td>3.922193</td>\n      <td>1.120468</td>\n      <td>2</td>\n      <td>0.883118</td>\n      <td>1.176472</td>\n    </tr>\n    <tr>\n      <th>3</th>\n      <td>6</td>\n      <td>1.0</td>\n      <td>0.797415</td>\n      <td>8.304757</td>\n      <td>2</td>\n      <td>4.225930</td>\n      <td>11.627438</td>\n      <td>2.097700</td>\n      <td>1.987549</td>\n      <td>0.171947</td>\n      <td>...</td>\n      <td>7.018256</td>\n      <td>1.812795</td>\n      <td>0.002267</td>\n      <td>64</td>\n      <td>1.415230</td>\n      <td>2.954381</td>\n      <td>1.990847</td>\n      <td>1</td>\n      <td>1.677108</td>\n      <td>1.034483</td>\n    </tr>\n    <tr>\n      <th>4</th>\n      <td>8</td>\n      <td>1.0</td>\n      <td>NaN</td>\n      <td>NaN</td>\n      <td>2</td>\n      <td>NaN</td>\n      <td>NaN</td>\n      <td>NaN</td>\n      <td>NaN</td>\n      <td>NaN</td>\n      <td>...</td>\n      <td>NaN</td>\n      <td>NaN</td>\n      <td>NaN</td>\n      <td>89</td>\n      <td>NaN</td>\n      <td>NaN</td>\n      <td>NaN</td>\n      <td>0</td>\n      <td>NaN</td>\n      <td>NaN</td>\n    </tr>\n    <tr>\n      <th>...</th>\n      <td>...</td>\n      <td>...</td>\n      <td>...</td>\n      <td>...</td>\n      <td>...</td>\n      <td>...</td>\n      <td>...</td>\n      <td>...</td>\n      <td>...</td>\n      <td>...</td>\n      <td>...</td>\n      <td>...</td>\n      <td>...</td>\n      <td>...</td>\n      <td>...</td>\n      <td>...</td>\n      <td>...</td>\n      <td>...</td>\n      <td>...</td>\n      <td>...</td>\n      <td>...</td>\n    </tr>\n    <tr>\n      <th>114316</th>\n      <td>228708</td>\n      <td>1.0</td>\n      <td>NaN</td>\n      <td>NaN</td>\n      <td>2</td>\n      <td>NaN</td>\n      <td>NaN</td>\n      <td>NaN</td>\n      <td>NaN</td>\n      <td>NaN</td>\n      <td>...</td>\n      <td>NaN</td>\n      <td>NaN</td>\n      <td>NaN</td>\n      <td>12</td>\n      <td>NaN</td>\n      <td>NaN</td>\n      <td>NaN</td>\n      <td>0</td>\n      <td>NaN</td>\n      <td>NaN</td>\n    </tr>\n    <tr>\n      <th>114317</th>\n      <td>228710</td>\n      <td>1.0</td>\n      <td>NaN</td>\n      <td>NaN</td>\n      <td>2</td>\n      <td>NaN</td>\n      <td>NaN</td>\n      <td>NaN</td>\n      <td>NaN</td>\n      <td>NaN</td>\n      <td>...</td>\n      <td>NaN</td>\n      <td>NaN</td>\n      <td>NaN</td>\n      <td>68</td>\n      <td>NaN</td>\n      <td>NaN</td>\n      <td>NaN</td>\n      <td>1</td>\n      <td>NaN</td>\n      <td>NaN</td>\n    </tr>\n    <tr>\n      <th>114318</th>\n      <td>228711</td>\n      <td>1.0</td>\n      <td>NaN</td>\n      <td>NaN</td>\n      <td>2</td>\n      <td>NaN</td>\n      <td>10.069277</td>\n      <td>NaN</td>\n      <td>NaN</td>\n      <td>0.323324</td>\n      <td>...</td>\n      <td>NaN</td>\n      <td>NaN</td>\n      <td>0.156764</td>\n      <td>80</td>\n      <td>NaN</td>\n      <td>NaN</td>\n      <td>2.417606</td>\n      <td>2</td>\n      <td>NaN</td>\n      <td>NaN</td>\n    </tr>\n    <tr>\n      <th>114319</th>\n      <td>228712</td>\n      <td>1.0</td>\n      <td>NaN</td>\n      <td>NaN</td>\n      <td>2</td>\n      <td>NaN</td>\n      <td>10.106144</td>\n      <td>NaN</td>\n      <td>NaN</td>\n      <td>0.309226</td>\n      <td>...</td>\n      <td>NaN</td>\n      <td>NaN</td>\n      <td>0.490658</td>\n      <td>50</td>\n      <td>NaN</td>\n      <td>NaN</td>\n      <td>3.526650</td>\n      <td>0</td>\n      <td>NaN</td>\n      <td>NaN</td>\n    </tr>\n    <tr>\n      <th>114320</th>\n      <td>228713</td>\n      <td>1.0</td>\n      <td>1.619763</td>\n      <td>7.932978</td>\n      <td>2</td>\n      <td>4.640085</td>\n      <td>8.473141</td>\n      <td>2.351470</td>\n      <td>2.826766</td>\n      <td>3.479754</td>\n      <td>...</td>\n      <td>7.936508</td>\n      <td>2.944285</td>\n      <td>3.135205</td>\n      <td>85</td>\n      <td>1.943149</td>\n      <td>4.385553</td>\n      <td>1.604493</td>\n      <td>0</td>\n      <td>1.787610</td>\n      <td>1.386138</td>\n    </tr>\n  </tbody>\n</table>\n<p>114321 rows × 133 columns</p>\n</div>"
     },
     "execution_count": 95,
     "metadata": {},
     "output_type": "execute_result"
    }
   ],
   "source": [
    "train_df_2"
   ],
   "metadata": {
    "collapsed": false,
    "ExecuteTime": {
     "end_time": "2023-08-13T08:37:33.375923700Z",
     "start_time": "2023-08-13T08:37:33.332426800Z"
    }
   },
   "id": "bb586cb02b36a77a"
  },
  {
   "cell_type": "code",
   "execution_count": 96,
   "outputs": [
    {
     "data": {
      "text/plain": "            ID            v1         v2  v3        v4        v5        v6  \\\n0            0  1.375465e+00  11.361141   2  4.200778  6.577000  2.081784   \n1            1           NaN        NaN   2       NaN       NaN       NaN   \n2            2 -4.903407e-07   8.201529   2  4.544371  6.550100  1.558442   \n3            7  2.661870e+00   3.041241   2  1.657216  9.773080  2.078337   \n4           10  1.252822e+00  11.283352   2  4.638388  8.520510  2.302484   \n...        ...           ...        ...  ..       ...       ...       ...   \n114388  228700           NaN        NaN   2       NaN       NaN       NaN   \n114389  228703           NaN        NaN   2       NaN       NaN       NaN   \n114390  228704  1.523740e+00   6.571597   2  3.827086  8.824122  2.635660   \n114391  228706           NaN        NaN   2       NaN       NaN       NaN   \n114392  228709  1.633554e+00   7.520583   2  4.264139  6.402152  1.766004   \n\n              v7        v8        v9  ...      v122      v123          v124  \\\n0       1.784386  0.011094  9.523810  ...  7.619048  1.815241  1.112270e-07   \n1            NaN       NaN       NaN  ...       NaN       NaN           NaN   \n2       2.467532  0.007164  7.142858  ...  5.714286  1.970928  1.412265e-02   \n3       1.430855  1.252157  7.959596  ...  4.404040  8.163614  1.100329e+00   \n4       3.510159  0.074263  7.612904  ...  6.580644  1.325654  2.584588e-01   \n...          ...       ...       ...  ...       ...       ...           ...   \n114388       NaN       NaN       NaN  ...       NaN       NaN           NaN   \n114389       NaN       NaN       NaN  ...       NaN       NaN           NaN   \n114390  2.218992  6.534959  8.852942  ...  6.852941  2.093560  5.111015e+00   \n114391       NaN       NaN       NaN  ...       NaN       NaN           NaN   \n114392  2.207506  0.020415  9.333333  ...  6.222221  2.740374  9.168495e-07   \n\n        v125      v126      v127      v128  v129      v130          v131  \n0          6  1.292368  3.903345  1.485925     0  2.333334  1.428572e+00  \n1         72       NaN       NaN       NaN     0       NaN           NaN  \n2         22  1.128724  5.844156  1.475892     0  1.263157 -6.380022e-07  \n3         27  1.988688  1.558753  2.448814     0  5.385474  1.493777e+00  \n4          0  1.863796  2.666478  2.374275     0  0.681672  2.264151e+00  \n...      ...       ...       ...       ...   ...       ...           ...  \n114388     7       NaN       NaN       NaN     0       NaN           NaN  \n114389    71       NaN       NaN       NaN     0       NaN           NaN  \n114390    85  1.826453  2.661700  1.601567     0  1.816594  1.634616e+00  \n114391    26       NaN       NaN       NaN     0       NaN           NaN  \n114392    43  1.726724  4.966887  1.429776     0  1.600000  2.000000e+00  \n\n[114393 rows x 132 columns]",
      "text/html": "<div>\n<style scoped>\n    .dataframe tbody tr th:only-of-type {\n        vertical-align: middle;\n    }\n\n    .dataframe tbody tr th {\n        vertical-align: top;\n    }\n\n    .dataframe thead th {\n        text-align: right;\n    }\n</style>\n<table border=\"1\" class=\"dataframe\">\n  <thead>\n    <tr style=\"text-align: right;\">\n      <th></th>\n      <th>ID</th>\n      <th>v1</th>\n      <th>v2</th>\n      <th>v3</th>\n      <th>v4</th>\n      <th>v5</th>\n      <th>v6</th>\n      <th>v7</th>\n      <th>v8</th>\n      <th>v9</th>\n      <th>...</th>\n      <th>v122</th>\n      <th>v123</th>\n      <th>v124</th>\n      <th>v125</th>\n      <th>v126</th>\n      <th>v127</th>\n      <th>v128</th>\n      <th>v129</th>\n      <th>v130</th>\n      <th>v131</th>\n    </tr>\n  </thead>\n  <tbody>\n    <tr>\n      <th>0</th>\n      <td>0</td>\n      <td>1.375465e+00</td>\n      <td>11.361141</td>\n      <td>2</td>\n      <td>4.200778</td>\n      <td>6.577000</td>\n      <td>2.081784</td>\n      <td>1.784386</td>\n      <td>0.011094</td>\n      <td>9.523810</td>\n      <td>...</td>\n      <td>7.619048</td>\n      <td>1.815241</td>\n      <td>1.112270e-07</td>\n      <td>6</td>\n      <td>1.292368</td>\n      <td>3.903345</td>\n      <td>1.485925</td>\n      <td>0</td>\n      <td>2.333334</td>\n      <td>1.428572e+00</td>\n    </tr>\n    <tr>\n      <th>1</th>\n      <td>1</td>\n      <td>NaN</td>\n      <td>NaN</td>\n      <td>2</td>\n      <td>NaN</td>\n      <td>NaN</td>\n      <td>NaN</td>\n      <td>NaN</td>\n      <td>NaN</td>\n      <td>NaN</td>\n      <td>...</td>\n      <td>NaN</td>\n      <td>NaN</td>\n      <td>NaN</td>\n      <td>72</td>\n      <td>NaN</td>\n      <td>NaN</td>\n      <td>NaN</td>\n      <td>0</td>\n      <td>NaN</td>\n      <td>NaN</td>\n    </tr>\n    <tr>\n      <th>2</th>\n      <td>2</td>\n      <td>-4.903407e-07</td>\n      <td>8.201529</td>\n      <td>2</td>\n      <td>4.544371</td>\n      <td>6.550100</td>\n      <td>1.558442</td>\n      <td>2.467532</td>\n      <td>0.007164</td>\n      <td>7.142858</td>\n      <td>...</td>\n      <td>5.714286</td>\n      <td>1.970928</td>\n      <td>1.412265e-02</td>\n      <td>22</td>\n      <td>1.128724</td>\n      <td>5.844156</td>\n      <td>1.475892</td>\n      <td>0</td>\n      <td>1.263157</td>\n      <td>-6.380022e-07</td>\n    </tr>\n    <tr>\n      <th>3</th>\n      <td>7</td>\n      <td>2.661870e+00</td>\n      <td>3.041241</td>\n      <td>2</td>\n      <td>1.657216</td>\n      <td>9.773080</td>\n      <td>2.078337</td>\n      <td>1.430855</td>\n      <td>1.252157</td>\n      <td>7.959596</td>\n      <td>...</td>\n      <td>4.404040</td>\n      <td>8.163614</td>\n      <td>1.100329e+00</td>\n      <td>27</td>\n      <td>1.988688</td>\n      <td>1.558753</td>\n      <td>2.448814</td>\n      <td>0</td>\n      <td>5.385474</td>\n      <td>1.493777e+00</td>\n    </tr>\n    <tr>\n      <th>4</th>\n      <td>10</td>\n      <td>1.252822e+00</td>\n      <td>11.283352</td>\n      <td>2</td>\n      <td>4.638388</td>\n      <td>8.520510</td>\n      <td>2.302484</td>\n      <td>3.510159</td>\n      <td>0.074263</td>\n      <td>7.612904</td>\n      <td>...</td>\n      <td>6.580644</td>\n      <td>1.325654</td>\n      <td>2.584588e-01</td>\n      <td>0</td>\n      <td>1.863796</td>\n      <td>2.666478</td>\n      <td>2.374275</td>\n      <td>0</td>\n      <td>0.681672</td>\n      <td>2.264151e+00</td>\n    </tr>\n    <tr>\n      <th>...</th>\n      <td>...</td>\n      <td>...</td>\n      <td>...</td>\n      <td>...</td>\n      <td>...</td>\n      <td>...</td>\n      <td>...</td>\n      <td>...</td>\n      <td>...</td>\n      <td>...</td>\n      <td>...</td>\n      <td>...</td>\n      <td>...</td>\n      <td>...</td>\n      <td>...</td>\n      <td>...</td>\n      <td>...</td>\n      <td>...</td>\n      <td>...</td>\n      <td>...</td>\n      <td>...</td>\n    </tr>\n    <tr>\n      <th>114388</th>\n      <td>228700</td>\n      <td>NaN</td>\n      <td>NaN</td>\n      <td>2</td>\n      <td>NaN</td>\n      <td>NaN</td>\n      <td>NaN</td>\n      <td>NaN</td>\n      <td>NaN</td>\n      <td>NaN</td>\n      <td>...</td>\n      <td>NaN</td>\n      <td>NaN</td>\n      <td>NaN</td>\n      <td>7</td>\n      <td>NaN</td>\n      <td>NaN</td>\n      <td>NaN</td>\n      <td>0</td>\n      <td>NaN</td>\n      <td>NaN</td>\n    </tr>\n    <tr>\n      <th>114389</th>\n      <td>228703</td>\n      <td>NaN</td>\n      <td>NaN</td>\n      <td>2</td>\n      <td>NaN</td>\n      <td>NaN</td>\n      <td>NaN</td>\n      <td>NaN</td>\n      <td>NaN</td>\n      <td>NaN</td>\n      <td>...</td>\n      <td>NaN</td>\n      <td>NaN</td>\n      <td>NaN</td>\n      <td>71</td>\n      <td>NaN</td>\n      <td>NaN</td>\n      <td>NaN</td>\n      <td>0</td>\n      <td>NaN</td>\n      <td>NaN</td>\n    </tr>\n    <tr>\n      <th>114390</th>\n      <td>228704</td>\n      <td>1.523740e+00</td>\n      <td>6.571597</td>\n      <td>2</td>\n      <td>3.827086</td>\n      <td>8.824122</td>\n      <td>2.635660</td>\n      <td>2.218992</td>\n      <td>6.534959</td>\n      <td>8.852942</td>\n      <td>...</td>\n      <td>6.852941</td>\n      <td>2.093560</td>\n      <td>5.111015e+00</td>\n      <td>85</td>\n      <td>1.826453</td>\n      <td>2.661700</td>\n      <td>1.601567</td>\n      <td>0</td>\n      <td>1.816594</td>\n      <td>1.634616e+00</td>\n    </tr>\n    <tr>\n      <th>114391</th>\n      <td>228706</td>\n      <td>NaN</td>\n      <td>NaN</td>\n      <td>2</td>\n      <td>NaN</td>\n      <td>NaN</td>\n      <td>NaN</td>\n      <td>NaN</td>\n      <td>NaN</td>\n      <td>NaN</td>\n      <td>...</td>\n      <td>NaN</td>\n      <td>NaN</td>\n      <td>NaN</td>\n      <td>26</td>\n      <td>NaN</td>\n      <td>NaN</td>\n      <td>NaN</td>\n      <td>0</td>\n      <td>NaN</td>\n      <td>NaN</td>\n    </tr>\n    <tr>\n      <th>114392</th>\n      <td>228709</td>\n      <td>1.633554e+00</td>\n      <td>7.520583</td>\n      <td>2</td>\n      <td>4.264139</td>\n      <td>6.402152</td>\n      <td>1.766004</td>\n      <td>2.207506</td>\n      <td>0.020415</td>\n      <td>9.333333</td>\n      <td>...</td>\n      <td>6.222221</td>\n      <td>2.740374</td>\n      <td>9.168495e-07</td>\n      <td>43</td>\n      <td>1.726724</td>\n      <td>4.966887</td>\n      <td>1.429776</td>\n      <td>0</td>\n      <td>1.600000</td>\n      <td>2.000000e+00</td>\n    </tr>\n  </tbody>\n</table>\n<p>114393 rows × 132 columns</p>\n</div>"
     },
     "execution_count": 96,
     "metadata": {},
     "output_type": "execute_result"
    }
   ],
   "source": [
    "test_df_2"
   ],
   "metadata": {
    "collapsed": false,
    "ExecuteTime": {
     "end_time": "2023-08-13T08:37:33.450922200Z",
     "start_time": "2023-08-13T08:37:33.369922800Z"
    }
   },
   "id": "458f30581f53c3db"
  },
  {
   "cell_type": "code",
   "execution_count": 97,
   "outputs": [],
   "source": [
    "train_X, train_y = train_df_2.drop(\"target\", axis=1), train_df_2[\"target\"]"
   ],
   "metadata": {
    "collapsed": false,
    "ExecuteTime": {
     "end_time": "2023-08-13T08:37:33.484922500Z",
     "start_time": "2023-08-13T08:37:33.409422100Z"
    }
   },
   "id": "53108a1542d81984"
  },
  {
   "cell_type": "code",
   "execution_count": 98,
   "outputs": [],
   "source": [
    "train_X, valid_X, train_y, valid_y = train_test_split(train_X, train_y, test_size=0.2, shuffle=True)"
   ],
   "metadata": {
    "collapsed": false,
    "ExecuteTime": {
     "end_time": "2023-08-13T08:37:33.596423400Z",
     "start_time": "2023-08-13T08:37:33.446922900Z"
    }
   },
   "id": "8f2c6b231b808bc1"
  },
  {
   "cell_type": "code",
   "execution_count": 99,
   "outputs": [],
   "source": [
    "dtrain = lgb.Dataset(train_X, train_y)\n",
    "dvalid = lgb.Dataset(valid_X, valid_y)"
   ],
   "metadata": {
    "collapsed": false,
    "ExecuteTime": {
     "end_time": "2023-08-13T08:37:33.596922600Z",
     "start_time": "2023-08-13T08:37:33.588927200Z"
    }
   },
   "id": "b8160e919960c15d"
  },
  {
   "cell_type": "code",
   "execution_count": 100,
   "outputs": [],
   "source": [
    "lgb_params = {\n",
    "    'boosting':'gbdt',\n",
    "    'objective' : 'binary',\n",
    "    'learning_rate' : 0.1,\n",
    "    'num_leaves' : 64,\n",
    "    'max_depth' : 10,\n",
    "    'min_data_in_leaf' : 20,\n",
    "    'bagging_fraction' : 0.8,\n",
    "    'bagging_freq' : 1,\n",
    "    'feature_fraction' : 0.9,\n",
    "    'lambda_l1': 0.1,\n",
    "    'lambda_l2': 0.2,\n",
    "    'verbose' : -1,\n",
    "    'force_row_wise': True\n",
    "}"
   ],
   "metadata": {
    "collapsed": false,
    "ExecuteTime": {
     "end_time": "2023-08-13T08:37:33.607923900Z",
     "start_time": "2023-08-13T08:37:33.593924900Z"
    }
   },
   "id": "dc27e9d496fcea94"
  },
  {
   "cell_type": "code",
   "execution_count": 101,
   "outputs": [
    {
     "name": "stdout",
     "output_type": "stream",
     "text": [
      "[1]\tvalid_0's binary_logloss: 0.537593\n",
      "Training until validation scores don't improve for 10 rounds\n",
      "[2]\tvalid_0's binary_logloss: 0.528246\n",
      "[3]\tvalid_0's binary_logloss: 0.521743\n",
      "[4]\tvalid_0's binary_logloss: 0.515246\n",
      "[5]\tvalid_0's binary_logloss: 0.508485\n",
      "[6]\tvalid_0's binary_logloss: 0.503031\n",
      "[7]\tvalid_0's binary_logloss: 0.498518\n",
      "[8]\tvalid_0's binary_logloss: 0.494662\n",
      "[9]\tvalid_0's binary_logloss: 0.49122\n",
      "[10]\tvalid_0's binary_logloss: 0.488929\n",
      "[11]\tvalid_0's binary_logloss: 0.486487\n",
      "[12]\tvalid_0's binary_logloss: 0.484397\n",
      "[13]\tvalid_0's binary_logloss: 0.482476\n",
      "[14]\tvalid_0's binary_logloss: 0.480827\n",
      "[15]\tvalid_0's binary_logloss: 0.479474\n",
      "[16]\tvalid_0's binary_logloss: 0.478411\n",
      "[17]\tvalid_0's binary_logloss: 0.477502\n",
      "[18]\tvalid_0's binary_logloss: 0.476662\n",
      "[19]\tvalid_0's binary_logloss: 0.475971\n",
      "[20]\tvalid_0's binary_logloss: 0.475374\n",
      "[21]\tvalid_0's binary_logloss: 0.474818\n",
      "[22]\tvalid_0's binary_logloss: 0.474269\n",
      "[23]\tvalid_0's binary_logloss: 0.473883\n",
      "[24]\tvalid_0's binary_logloss: 0.473362\n",
      "[25]\tvalid_0's binary_logloss: 0.473016\n",
      "[26]\tvalid_0's binary_logloss: 0.472654\n",
      "[27]\tvalid_0's binary_logloss: 0.472254\n",
      "[28]\tvalid_0's binary_logloss: 0.471829\n",
      "[29]\tvalid_0's binary_logloss: 0.471441\n",
      "[30]\tvalid_0's binary_logloss: 0.471268\n",
      "[31]\tvalid_0's binary_logloss: 0.471146\n",
      "[32]\tvalid_0's binary_logloss: 0.471058\n",
      "[33]\tvalid_0's binary_logloss: 0.470869\n",
      "[34]\tvalid_0's binary_logloss: 0.470753\n",
      "[35]\tvalid_0's binary_logloss: 0.470563\n",
      "[36]\tvalid_0's binary_logloss: 0.470012\n",
      "[37]\tvalid_0's binary_logloss: 0.469763\n",
      "[38]\tvalid_0's binary_logloss: 0.469524\n",
      "[39]\tvalid_0's binary_logloss: 0.469505\n",
      "[40]\tvalid_0's binary_logloss: 0.469426\n",
      "[41]\tvalid_0's binary_logloss: 0.469275\n",
      "[42]\tvalid_0's binary_logloss: 0.469278\n",
      "[43]\tvalid_0's binary_logloss: 0.46913\n",
      "[44]\tvalid_0's binary_logloss: 0.469168\n",
      "[45]\tvalid_0's binary_logloss: 0.469105\n",
      "[46]\tvalid_0's binary_logloss: 0.469042\n",
      "[47]\tvalid_0's binary_logloss: 0.468804\n",
      "[48]\tvalid_0's binary_logloss: 0.468694\n",
      "[49]\tvalid_0's binary_logloss: 0.468581\n",
      "[50]\tvalid_0's binary_logloss: 0.468573\n",
      "[51]\tvalid_0's binary_logloss: 0.468461\n",
      "[52]\tvalid_0's binary_logloss: 0.468352\n",
      "[53]\tvalid_0's binary_logloss: 0.468276\n",
      "[54]\tvalid_0's binary_logloss: 0.467955\n",
      "[55]\tvalid_0's binary_logloss: 0.467824\n",
      "[56]\tvalid_0's binary_logloss: 0.467675\n",
      "[57]\tvalid_0's binary_logloss: 0.467459\n",
      "[58]\tvalid_0's binary_logloss: 0.467463\n",
      "[59]\tvalid_0's binary_logloss: 0.467436\n",
      "[60]\tvalid_0's binary_logloss: 0.467359\n",
      "[61]\tvalid_0's binary_logloss: 0.467339\n",
      "[62]\tvalid_0's binary_logloss: 0.467283\n",
      "[63]\tvalid_0's binary_logloss: 0.467267\n",
      "[64]\tvalid_0's binary_logloss: 0.467059\n",
      "[65]\tvalid_0's binary_logloss: 0.467055\n",
      "[66]\tvalid_0's binary_logloss: 0.466948\n",
      "[67]\tvalid_0's binary_logloss: 0.466949\n",
      "[68]\tvalid_0's binary_logloss: 0.466787\n",
      "[69]\tvalid_0's binary_logloss: 0.466769\n",
      "[70]\tvalid_0's binary_logloss: 0.466554\n",
      "[71]\tvalid_0's binary_logloss: 0.466431\n",
      "[72]\tvalid_0's binary_logloss: 0.466327\n",
      "[73]\tvalid_0's binary_logloss: 0.466372\n",
      "[74]\tvalid_0's binary_logloss: 0.466354\n",
      "[75]\tvalid_0's binary_logloss: 0.466367\n",
      "[76]\tvalid_0's binary_logloss: 0.466409\n",
      "[77]\tvalid_0's binary_logloss: 0.466311\n",
      "[78]\tvalid_0's binary_logloss: 0.466281\n",
      "[79]\tvalid_0's binary_logloss: 0.466258\n",
      "[80]\tvalid_0's binary_logloss: 0.466187\n",
      "[81]\tvalid_0's binary_logloss: 0.466223\n",
      "[82]\tvalid_0's binary_logloss: 0.46627\n",
      "[83]\tvalid_0's binary_logloss: 0.466348\n",
      "[84]\tvalid_0's binary_logloss: 0.466314\n",
      "[85]\tvalid_0's binary_logloss: 0.466279\n",
      "[86]\tvalid_0's binary_logloss: 0.466303\n",
      "[87]\tvalid_0's binary_logloss: 0.466375\n",
      "[88]\tvalid_0's binary_logloss: 0.46643\n",
      "[89]\tvalid_0's binary_logloss: 0.466431\n",
      "[90]\tvalid_0's binary_logloss: 0.466449\n",
      "Early stopping, best iteration is:\n",
      "[80]\tvalid_0's binary_logloss: 0.466187\n",
      "Evaluated only: binary_logloss\n"
     ]
    }
   ],
   "source": [
    "# LightGBM modelの学習\n",
    "# 早期終了のためのコールバックを定義\n",
    "early_stopping = lgb.early_stopping(stopping_rounds=10, first_metric_only=True, verbose=True)\n",
    "verbose_eval = lgb.log_evaluation(1)\n",
    "light_gbm = lgb.train(\n",
    "    params=lgb_params,\n",
    "    train_set=dtrain,\n",
    "    valid_sets=[dvalid],\n",
    "    num_boost_round=10000,  # 最大学習サイクル数。early_stopping使用時は大きな値を入力\n",
    "    callbacks=[early_stopping, verbose_eval] \n",
    ")"
   ],
   "metadata": {
    "collapsed": false,
    "ExecuteTime": {
     "end_time": "2023-08-13T08:37:36.571921400Z",
     "start_time": "2023-08-13T08:37:33.600424300Z"
    }
   },
   "id": "5a9b76dfc47d4fa3"
  },
  {
   "cell_type": "code",
   "execution_count": 102,
   "outputs": [],
   "source": [
    "pred_test = light_gbm.predict(test_df_2, num_iteration=light_gbm.best_iteration)"
   ],
   "metadata": {
    "collapsed": false,
    "ExecuteTime": {
     "end_time": "2023-08-13T08:37:36.807921300Z",
     "start_time": "2023-08-13T08:37:36.571921400Z"
    }
   },
   "id": "4e5cc934e5e3543f"
  },
  {
   "cell_type": "code",
   "execution_count": 103,
   "outputs": [],
   "source": [
    "sub_df = pd.DataFrame({\n",
    "    \"ID\": test_df[\"ID\"],\n",
    "    \"PredictedProb\": pred_test\n",
    "})"
   ],
   "metadata": {
    "collapsed": false,
    "ExecuteTime": {
     "end_time": "2023-08-13T08:37:36.815421900Z",
     "start_time": "2023-08-13T08:37:36.807921300Z"
    }
   },
   "id": "f718bf72015d09fa"
  },
  {
   "cell_type": "code",
   "execution_count": 104,
   "outputs": [],
   "source": [
    "sub_df.to_csv(\"submission.csv\", index=False)"
   ],
   "metadata": {
    "collapsed": false,
    "ExecuteTime": {
     "end_time": "2023-08-13T08:37:36.998422400Z",
     "start_time": "2023-08-13T08:37:36.811921400Z"
    }
   },
   "id": "c9614439c77006a0"
  }
 ],
 "metadata": {
  "kernelspec": {
   "display_name": "Python 3",
   "language": "python",
   "name": "python3"
  },
  "language_info": {
   "codemirror_mode": {
    "name": "ipython",
    "version": 2
   },
   "file_extension": ".py",
   "mimetype": "text/x-python",
   "name": "python",
   "nbconvert_exporter": "python",
   "pygments_lexer": "ipython2",
   "version": "2.7.6"
  }
 },
 "nbformat": 4,
 "nbformat_minor": 5
}
